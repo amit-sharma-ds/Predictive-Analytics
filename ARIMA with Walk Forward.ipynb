{
 "cells": [
  {
   "cell_type": "code",
   "execution_count": 42,
   "id": "28b4795c",
   "metadata": {},
   "outputs": [],
   "source": [
    "# Revise\n",
    "\n",
    "\n",
    "#### what is acf and pacf\n",
    "\n",
    "# acf -> tells the order of MA\n",
    "# pacf -> tells the order of AR\n",
    "\n",
    "# AR applies on LAG1\n",
    "# MA applies on residuals.\n",
    "\n",
    "# IF stationary ni hai then check through adffuller test.\n",
    "# and then make it station and apply model ar, ma\n",
    "\n",
    "\n",
    "# The full form of \"ywm\" in the context of the plot_pacf function is \"Yule-Walker Method\".\n",
    "# It refers to the Yule-Walker equations, which are used to estimate the partial autocorrelation function (PACF) of a time series."
   ]
  },
  {
   "cell_type": "code",
   "execution_count": 43,
   "id": "6e5eb366",
   "metadata": {},
   "outputs": [],
   "source": [
    "# arima handle trend.\n",
    "# and we use differencing to remove the trend."
   ]
  },
  {
   "cell_type": "markdown",
   "id": "794d5f34",
   "metadata": {},
   "source": [
    "# Differencing"
   ]
  },
  {
   "cell_type": "code",
   "execution_count": 44,
   "id": "4d8e063c",
   "metadata": {},
   "outputs": [],
   "source": [
    "# differencing is a technique to transform non-stationary --> to stationary.# decomposition -> additive and multiplicative"
   ]
  },
  {
   "cell_type": "code",
   "execution_count": 45,
   "id": "5822f894",
   "metadata": {},
   "outputs": [],
   "source": [
    "# If stationary then -->  adf test"
   ]
  },
  {
   "cell_type": "code",
   "execution_count": 46,
   "id": "f2a9d899",
   "metadata": {},
   "outputs": [],
   "source": [
    "# trend ko htane ke liye we aare using differecing"
   ]
  },
  {
   "cell_type": "code",
   "execution_count": null,
   "id": "e7dba7a2",
   "metadata": {},
   "outputs": [],
   "source": []
  },
  {
   "cell_type": "code",
   "execution_count": 47,
   "id": "c69dfa05",
   "metadata": {},
   "outputs": [],
   "source": [
    "# 1st check the df that it is stationary or not."
   ]
  },
  {
   "cell_type": "code",
   "execution_count": 48,
   "id": "fa23a6c9",
   "metadata": {},
   "outputs": [],
   "source": [
    "# ar use krna hai ya ma\n",
    "\n",
    "# we use the acf and pacf\n",
    "# these both are showing the autocorrelation"
   ]
  },
  {
   "cell_type": "code",
   "execution_count": null,
   "id": "1bfe04e1",
   "metadata": {},
   "outputs": [],
   "source": []
  },
  {
   "cell_type": "code",
   "execution_count": 49,
   "id": "1f21bd9a",
   "metadata": {},
   "outputs": [],
   "source": [
    "# stationary or not -> adffuller test\n",
    "\n",
    "# acf and pacf -> to know the order of ar and ma"
   ]
  },
  {
   "cell_type": "code",
   "execution_count": 50,
   "id": "0c3b4008",
   "metadata": {},
   "outputs": [],
   "source": [
    "# decomposITION is used to remove the trend and seasonality"
   ]
  },
  {
   "cell_type": "code",
   "execution_count": null,
   "id": "253a4eff",
   "metadata": {},
   "outputs": [],
   "source": []
  },
  {
   "cell_type": "code",
   "execution_count": 51,
   "id": "b9d547d1",
   "metadata": {},
   "outputs": [],
   "source": [
    "import pandas as pd\n",
    "import numpy as np\n",
    "import matplotlib.pyplot as plt\n",
    "from statsmodels.tsa.stattools import adfuller\n",
    "from statsmodels.tsa.arima.model import ARIMA\n",
    "from statsmodels.graphics.tsaplots import plot_acf, plot_pacf"
   ]
  },
  {
   "cell_type": "code",
   "execution_count": 52,
   "id": "7796a0e6",
   "metadata": {},
   "outputs": [],
   "source": [
    "# Load the Shampoo Sales dataset\n",
    "\n",
    "data = pd.read_csv('shampoo.xls', usecols=[1], names=[\"Sales\"], header=0)\n",
    "\n",
    "# Loads the dataset containing monthly shampoo sales data.\n",
    "\n",
    "# Selects only the sales column.\n",
    "\n",
    "# Assigns a column name \"Sales\""
   ]
  },
  {
   "cell_type": "code",
   "execution_count": 53,
   "id": "2d561954",
   "metadata": {},
   "outputs": [
    {
     "data": {
      "text/html": [
       "<div>\n",
       "<style scoped>\n",
       "    .dataframe tbody tr th:only-of-type {\n",
       "        vertical-align: middle;\n",
       "    }\n",
       "\n",
       "    .dataframe tbody tr th {\n",
       "        vertical-align: top;\n",
       "    }\n",
       "\n",
       "    .dataframe thead th {\n",
       "        text-align: right;\n",
       "    }\n",
       "</style>\n",
       "<table border=\"1\" class=\"dataframe\">\n",
       "  <thead>\n",
       "    <tr style=\"text-align: right;\">\n",
       "      <th></th>\n",
       "      <th>Sales</th>\n",
       "    </tr>\n",
       "  </thead>\n",
       "  <tbody>\n",
       "    <tr>\n",
       "      <th>0</th>\n",
       "      <td>266.0</td>\n",
       "    </tr>\n",
       "    <tr>\n",
       "      <th>1</th>\n",
       "      <td>145.9</td>\n",
       "    </tr>\n",
       "    <tr>\n",
       "      <th>2</th>\n",
       "      <td>183.1</td>\n",
       "    </tr>\n",
       "    <tr>\n",
       "      <th>3</th>\n",
       "      <td>119.3</td>\n",
       "    </tr>\n",
       "    <tr>\n",
       "      <th>4</th>\n",
       "      <td>180.3</td>\n",
       "    </tr>\n",
       "    <tr>\n",
       "      <th>5</th>\n",
       "      <td>168.5</td>\n",
       "    </tr>\n",
       "    <tr>\n",
       "      <th>6</th>\n",
       "      <td>231.8</td>\n",
       "    </tr>\n",
       "    <tr>\n",
       "      <th>7</th>\n",
       "      <td>224.5</td>\n",
       "    </tr>\n",
       "    <tr>\n",
       "      <th>8</th>\n",
       "      <td>192.8</td>\n",
       "    </tr>\n",
       "    <tr>\n",
       "      <th>9</th>\n",
       "      <td>122.9</td>\n",
       "    </tr>\n",
       "    <tr>\n",
       "      <th>10</th>\n",
       "      <td>336.5</td>\n",
       "    </tr>\n",
       "    <tr>\n",
       "      <th>11</th>\n",
       "      <td>185.9</td>\n",
       "    </tr>\n",
       "    <tr>\n",
       "      <th>12</th>\n",
       "      <td>194.3</td>\n",
       "    </tr>\n",
       "    <tr>\n",
       "      <th>13</th>\n",
       "      <td>149.5</td>\n",
       "    </tr>\n",
       "    <tr>\n",
       "      <th>14</th>\n",
       "      <td>210.1</td>\n",
       "    </tr>\n",
       "    <tr>\n",
       "      <th>15</th>\n",
       "      <td>273.3</td>\n",
       "    </tr>\n",
       "    <tr>\n",
       "      <th>16</th>\n",
       "      <td>191.4</td>\n",
       "    </tr>\n",
       "    <tr>\n",
       "      <th>17</th>\n",
       "      <td>287.0</td>\n",
       "    </tr>\n",
       "    <tr>\n",
       "      <th>18</th>\n",
       "      <td>226.0</td>\n",
       "    </tr>\n",
       "    <tr>\n",
       "      <th>19</th>\n",
       "      <td>303.6</td>\n",
       "    </tr>\n",
       "    <tr>\n",
       "      <th>20</th>\n",
       "      <td>289.9</td>\n",
       "    </tr>\n",
       "    <tr>\n",
       "      <th>21</th>\n",
       "      <td>421.6</td>\n",
       "    </tr>\n",
       "    <tr>\n",
       "      <th>22</th>\n",
       "      <td>264.5</td>\n",
       "    </tr>\n",
       "    <tr>\n",
       "      <th>23</th>\n",
       "      <td>342.3</td>\n",
       "    </tr>\n",
       "    <tr>\n",
       "      <th>24</th>\n",
       "      <td>339.7</td>\n",
       "    </tr>\n",
       "    <tr>\n",
       "      <th>25</th>\n",
       "      <td>440.4</td>\n",
       "    </tr>\n",
       "    <tr>\n",
       "      <th>26</th>\n",
       "      <td>315.9</td>\n",
       "    </tr>\n",
       "    <tr>\n",
       "      <th>27</th>\n",
       "      <td>439.3</td>\n",
       "    </tr>\n",
       "    <tr>\n",
       "      <th>28</th>\n",
       "      <td>401.3</td>\n",
       "    </tr>\n",
       "    <tr>\n",
       "      <th>29</th>\n",
       "      <td>437.4</td>\n",
       "    </tr>\n",
       "    <tr>\n",
       "      <th>30</th>\n",
       "      <td>575.5</td>\n",
       "    </tr>\n",
       "    <tr>\n",
       "      <th>31</th>\n",
       "      <td>407.6</td>\n",
       "    </tr>\n",
       "    <tr>\n",
       "      <th>32</th>\n",
       "      <td>682.0</td>\n",
       "    </tr>\n",
       "    <tr>\n",
       "      <th>33</th>\n",
       "      <td>475.3</td>\n",
       "    </tr>\n",
       "    <tr>\n",
       "      <th>34</th>\n",
       "      <td>581.3</td>\n",
       "    </tr>\n",
       "    <tr>\n",
       "      <th>35</th>\n",
       "      <td>646.9</td>\n",
       "    </tr>\n",
       "  </tbody>\n",
       "</table>\n",
       "</div>"
      ],
      "text/plain": [
       "    Sales\n",
       "0   266.0\n",
       "1   145.9\n",
       "2   183.1\n",
       "3   119.3\n",
       "4   180.3\n",
       "5   168.5\n",
       "6   231.8\n",
       "7   224.5\n",
       "8   192.8\n",
       "9   122.9\n",
       "10  336.5\n",
       "11  185.9\n",
       "12  194.3\n",
       "13  149.5\n",
       "14  210.1\n",
       "15  273.3\n",
       "16  191.4\n",
       "17  287.0\n",
       "18  226.0\n",
       "19  303.6\n",
       "20  289.9\n",
       "21  421.6\n",
       "22  264.5\n",
       "23  342.3\n",
       "24  339.7\n",
       "25  440.4\n",
       "26  315.9\n",
       "27  439.3\n",
       "28  401.3\n",
       "29  437.4\n",
       "30  575.5\n",
       "31  407.6\n",
       "32  682.0\n",
       "33  475.3\n",
       "34  581.3\n",
       "35  646.9"
      ]
     },
     "execution_count": 53,
     "metadata": {},
     "output_type": "execute_result"
    }
   ],
   "source": [
    "data"
   ]
  },
  {
   "cell_type": "code",
   "execution_count": 54,
   "id": "fd9c95ea",
   "metadata": {},
   "outputs": [
    {
     "name": "stderr",
     "output_type": "stream",
     "text": [
      "C:\\Users\\Acer\\AppData\\Local\\Temp\\ipykernel_14436\\1090059132.py:2: FutureWarning: 'M' is deprecated and will be removed in a future version, please use 'ME' instead.\n",
      "  data.index = pd.date_range(start=\"1901-01\", periods=len(data), freq=\"M\")\n"
     ]
    }
   ],
   "source": [
    "# Convert to time series format\n",
    "data.index = pd.date_range(start=\"1901-01\", periods=len(data), freq=\"M\")\n",
    "\n",
    "# Converts the dataset into a time sereis format with a monthly frequency"
   ]
  },
  {
   "cell_type": "code",
   "execution_count": 55,
   "id": "42d15cf2",
   "metadata": {},
   "outputs": [
    {
     "data": {
      "text/html": [
       "<div>\n",
       "<style scoped>\n",
       "    .dataframe tbody tr th:only-of-type {\n",
       "        vertical-align: middle;\n",
       "    }\n",
       "\n",
       "    .dataframe tbody tr th {\n",
       "        vertical-align: top;\n",
       "    }\n",
       "\n",
       "    .dataframe thead th {\n",
       "        text-align: right;\n",
       "    }\n",
       "</style>\n",
       "<table border=\"1\" class=\"dataframe\">\n",
       "  <thead>\n",
       "    <tr style=\"text-align: right;\">\n",
       "      <th></th>\n",
       "      <th>Sales</th>\n",
       "    </tr>\n",
       "  </thead>\n",
       "  <tbody>\n",
       "    <tr>\n",
       "      <th>1901-01-31</th>\n",
       "      <td>266.0</td>\n",
       "    </tr>\n",
       "    <tr>\n",
       "      <th>1901-02-28</th>\n",
       "      <td>145.9</td>\n",
       "    </tr>\n",
       "    <tr>\n",
       "      <th>1901-03-31</th>\n",
       "      <td>183.1</td>\n",
       "    </tr>\n",
       "    <tr>\n",
       "      <th>1901-04-30</th>\n",
       "      <td>119.3</td>\n",
       "    </tr>\n",
       "    <tr>\n",
       "      <th>1901-05-31</th>\n",
       "      <td>180.3</td>\n",
       "    </tr>\n",
       "    <tr>\n",
       "      <th>1901-06-30</th>\n",
       "      <td>168.5</td>\n",
       "    </tr>\n",
       "    <tr>\n",
       "      <th>1901-07-31</th>\n",
       "      <td>231.8</td>\n",
       "    </tr>\n",
       "    <tr>\n",
       "      <th>1901-08-31</th>\n",
       "      <td>224.5</td>\n",
       "    </tr>\n",
       "    <tr>\n",
       "      <th>1901-09-30</th>\n",
       "      <td>192.8</td>\n",
       "    </tr>\n",
       "    <tr>\n",
       "      <th>1901-10-31</th>\n",
       "      <td>122.9</td>\n",
       "    </tr>\n",
       "    <tr>\n",
       "      <th>1901-11-30</th>\n",
       "      <td>336.5</td>\n",
       "    </tr>\n",
       "    <tr>\n",
       "      <th>1901-12-31</th>\n",
       "      <td>185.9</td>\n",
       "    </tr>\n",
       "    <tr>\n",
       "      <th>1902-01-31</th>\n",
       "      <td>194.3</td>\n",
       "    </tr>\n",
       "    <tr>\n",
       "      <th>1902-02-28</th>\n",
       "      <td>149.5</td>\n",
       "    </tr>\n",
       "    <tr>\n",
       "      <th>1902-03-31</th>\n",
       "      <td>210.1</td>\n",
       "    </tr>\n",
       "    <tr>\n",
       "      <th>1902-04-30</th>\n",
       "      <td>273.3</td>\n",
       "    </tr>\n",
       "    <tr>\n",
       "      <th>1902-05-31</th>\n",
       "      <td>191.4</td>\n",
       "    </tr>\n",
       "    <tr>\n",
       "      <th>1902-06-30</th>\n",
       "      <td>287.0</td>\n",
       "    </tr>\n",
       "    <tr>\n",
       "      <th>1902-07-31</th>\n",
       "      <td>226.0</td>\n",
       "    </tr>\n",
       "    <tr>\n",
       "      <th>1902-08-31</th>\n",
       "      <td>303.6</td>\n",
       "    </tr>\n",
       "    <tr>\n",
       "      <th>1902-09-30</th>\n",
       "      <td>289.9</td>\n",
       "    </tr>\n",
       "    <tr>\n",
       "      <th>1902-10-31</th>\n",
       "      <td>421.6</td>\n",
       "    </tr>\n",
       "    <tr>\n",
       "      <th>1902-11-30</th>\n",
       "      <td>264.5</td>\n",
       "    </tr>\n",
       "    <tr>\n",
       "      <th>1902-12-31</th>\n",
       "      <td>342.3</td>\n",
       "    </tr>\n",
       "    <tr>\n",
       "      <th>1903-01-31</th>\n",
       "      <td>339.7</td>\n",
       "    </tr>\n",
       "    <tr>\n",
       "      <th>1903-02-28</th>\n",
       "      <td>440.4</td>\n",
       "    </tr>\n",
       "    <tr>\n",
       "      <th>1903-03-31</th>\n",
       "      <td>315.9</td>\n",
       "    </tr>\n",
       "    <tr>\n",
       "      <th>1903-04-30</th>\n",
       "      <td>439.3</td>\n",
       "    </tr>\n",
       "    <tr>\n",
       "      <th>1903-05-31</th>\n",
       "      <td>401.3</td>\n",
       "    </tr>\n",
       "    <tr>\n",
       "      <th>1903-06-30</th>\n",
       "      <td>437.4</td>\n",
       "    </tr>\n",
       "    <tr>\n",
       "      <th>1903-07-31</th>\n",
       "      <td>575.5</td>\n",
       "    </tr>\n",
       "    <tr>\n",
       "      <th>1903-08-31</th>\n",
       "      <td>407.6</td>\n",
       "    </tr>\n",
       "    <tr>\n",
       "      <th>1903-09-30</th>\n",
       "      <td>682.0</td>\n",
       "    </tr>\n",
       "    <tr>\n",
       "      <th>1903-10-31</th>\n",
       "      <td>475.3</td>\n",
       "    </tr>\n",
       "    <tr>\n",
       "      <th>1903-11-30</th>\n",
       "      <td>581.3</td>\n",
       "    </tr>\n",
       "    <tr>\n",
       "      <th>1903-12-31</th>\n",
       "      <td>646.9</td>\n",
       "    </tr>\n",
       "  </tbody>\n",
       "</table>\n",
       "</div>"
      ],
      "text/plain": [
       "            Sales\n",
       "1901-01-31  266.0\n",
       "1901-02-28  145.9\n",
       "1901-03-31  183.1\n",
       "1901-04-30  119.3\n",
       "1901-05-31  180.3\n",
       "1901-06-30  168.5\n",
       "1901-07-31  231.8\n",
       "1901-08-31  224.5\n",
       "1901-09-30  192.8\n",
       "1901-10-31  122.9\n",
       "1901-11-30  336.5\n",
       "1901-12-31  185.9\n",
       "1902-01-31  194.3\n",
       "1902-02-28  149.5\n",
       "1902-03-31  210.1\n",
       "1902-04-30  273.3\n",
       "1902-05-31  191.4\n",
       "1902-06-30  287.0\n",
       "1902-07-31  226.0\n",
       "1902-08-31  303.6\n",
       "1902-09-30  289.9\n",
       "1902-10-31  421.6\n",
       "1902-11-30  264.5\n",
       "1902-12-31  342.3\n",
       "1903-01-31  339.7\n",
       "1903-02-28  440.4\n",
       "1903-03-31  315.9\n",
       "1903-04-30  439.3\n",
       "1903-05-31  401.3\n",
       "1903-06-30  437.4\n",
       "1903-07-31  575.5\n",
       "1903-08-31  407.6\n",
       "1903-09-30  682.0\n",
       "1903-10-31  475.3\n",
       "1903-11-30  581.3\n",
       "1903-12-31  646.9"
      ]
     },
     "execution_count": 55,
     "metadata": {},
     "output_type": "execute_result"
    }
   ],
   "source": [
    "data"
   ]
  },
  {
   "cell_type": "code",
   "execution_count": 56,
   "id": "98e6eb29",
   "metadata": {},
   "outputs": [
    {
     "data": {
      "image/png": "[encoded data removed]",
      "text/plain": [
       "<Figure size 1000x500 with 1 Axes>"
      ]
     },
     "metadata": {},
     "output_type": "display_data"
    }
   ],
   "source": [
    "# Visualization the data\n",
    "plt.figure(figsize=(10, 5))\n",
    "plt.plot(data, marker='o', linestyle='-')\n",
    "plt.title(\"Shampoo Sales Over Time\")\n",
    "plt.xlabel(\"Date\")\n",
    "plt.ylabel(\"Sales\")\n",
    "plt.grid()\n",
    "plt.show()\n",
    "\n"
   ]
  },
  {
   "cell_type": "code",
   "execution_count": 57,
   "id": "70925d7e",
   "metadata": {},
   "outputs": [
    {
     "name": "stdout",
     "output_type": "stream",
     "text": [
      "ADF Statistic: 3.060142083641183\n",
      "p-value: 1.0\n",
      "The data is non-stationary. Differencing is required.\n"
     ]
    }
   ],
   "source": [
    "# Check stationary using ADF test\n",
    "result = adfuller(data['Sales'])\n",
    "print(\"ADF Statistic:\", result[0])\n",
    "print(\"p-value:\", result[1])\n",
    "if result[1] > 0.05:\n",
    "    print(\"The data is non-stationary. Differencing is required.\")\n",
    "else:\n",
    "    print(\"The data is stationary\")\n",
    "    \n",
    "    \n",
    "# Dickey-Fuller Test determines if the time series is stationary\n",
    "\n",
    "# A p-value > 0.005 means the series is non-stationary.. to do see more comments"
   ]
  },
  {
   "cell_type": "code",
   "execution_count": 58,
   "id": "15f19e8c",
   "metadata": {},
   "outputs": [
    {
     "data": {
      "text/plain": [
       "3.060142083641183"
      ]
     },
     "execution_count": 58,
     "metadata": {},
     "output_type": "execute_result"
    }
   ],
   "source": [
    "# //\n",
    "result[0]"
   ]
  },
  {
   "cell_type": "code",
   "execution_count": 59,
   "id": "2f174a29",
   "metadata": {},
   "outputs": [
    {
     "data": {
      "text/plain": [
       "(3.060142083641183,\n",
       " 1.0,\n",
       " 10,\n",
       " 25,\n",
       " {'1%': -3.7238633119999998, '5%': -2.98648896, '10%': -2.6328004},\n",
       " 278.9972644263031)"
      ]
     },
     "execution_count": 59,
     "metadata": {},
     "output_type": "execute_result"
    }
   ],
   "source": [
    "# //\n",
    "result"
   ]
  },
  {
   "cell_type": "code",
   "execution_count": null,
   "id": "5a322f8c",
   "metadata": {},
   "outputs": [],
   "source": []
  },
  {
   "cell_type": "code",
   "execution_count": 60,
   "id": "65668b5c",
   "metadata": {},
   "outputs": [],
   "source": [
    "# Differencing to make data stationary\n",
    "data_diff = data.diff().dropna()"
   ]
  },
  {
   "cell_type": "code",
   "execution_count": 61,
   "id": "4d4f555e",
   "metadata": {},
   "outputs": [
    {
     "data": {
      "image/png": "[encoded data removed]",
      "text/plain": [
       "<Figure size 1200x500 with 2 Axes>"
      ]
     },
     "metadata": {},
     "output_type": "display_data"
    }
   ],
   "source": [
    "# Plot ACF and PACF to determine p, q values \n",
    "fig, axes = plt.subplots(1, 2, figsize=(12, 5))\n",
    "plot_acf(data_diff, lags=15, ax=axes[0])\n",
    "plot_pacf(data_diff, lags=15, method='ywm', ax=axes[1])\n",
    "axes[0].set_title(\"ACF Plot\")\n",
    "axes[1].set_title(\"PACF Plot\")\n",
    "plt.show()"
   ]
  },
  {
   "cell_type": "code",
   "execution_count": 62,
   "id": "328a7ebe",
   "metadata": {},
   "outputs": [],
   "source": [
    "# Explanation of the about plot\n",
    "\n",
    "# p, d, q\n",
    "\n",
    "# p = 1\n",
    "# d = differencing 1\n",
    "\n",
    "# (p, d, q)\n",
    "# [ar (pacf), differencing, ma model (acf)]"
   ]
  },
  {
   "cell_type": "code",
   "execution_count": 63,
   "id": "3144ec6f",
   "metadata": {},
   "outputs": [],
   "source": [
    "# Fit Arima model (p,d,q) = (5,1,0) based on ACF/PACF\n",
    "model = ARIMA(data, order=(5,1,0))\n",
    "model_fit = model.fit()"
   ]
  },
  {
   "cell_type": "markdown",
   "id": "fad53199",
   "metadata": {},
   "source": [
    "ARIMA(5,1,0) is choosed based on ACF/PACF analysis.\n",
    "\n",
    "p = 5 (5 autoregressive lags).\n",
    "\n",
    "d = 1 (1 differencing step for stationary)\n",
    "\n",
    "q = 0 (no moving average components).\n",
    "\n",
    "model.fit() estimates parameters using Maximum Likelihood Estimation (MLE).\n",
    "\n"
   ]
  },
  {
   "cell_type": "code",
   "execution_count": 64,
   "id": "866154ab",
   "metadata": {},
   "outputs": [
    {
     "name": "stdout",
     "output_type": "stream",
     "text": [
      "                               SARIMAX Results                                \n",
      "==============================================================================\n",
      "Dep. Variable:                  Sales   No. Observations:                   36\n",
      "Model:                 ARIMA(5, 1, 0)   Log Likelihood                -198.485\n",
      "Date:                Wed, 26 Mar 2025   AIC                            408.969\n",
      "Time:                        16:46:58   BIC                            418.301\n",
      "Sample:                    01-31-1901   HQIC                           412.191\n",
      "                         - 12-31-1903                                         \n",
      "Covariance Type:                  opg                                         \n",
      "==============================================================================\n",
      "                 coef    std err          z      P>|z|      [0.025      0.975]\n",
      "------------------------------------------------------------------------------\n",
      "ar.L1         -0.9014      0.247     -3.647      0.000      -1.386      -0.417\n",
      "ar.L2         -0.2284      0.268     -0.851      0.395      -0.754       0.298\n",
      "ar.L3          0.0747      0.291      0.256      0.798      -0.497       0.646\n",
      "ar.L4          0.2519      0.340      0.742      0.458      -0.414       0.918\n",
      "ar.L5          0.3344      0.210      1.593      0.111      -0.077       0.746\n",
      "sigma2      4728.9608   1316.021      3.593      0.000    2149.607    7308.314\n",
      "===================================================================================\n",
      "Ljung-Box (L1) (Q):                   0.61   Jarque-Bera (JB):                 0.96\n",
      "Prob(Q):                              0.44   Prob(JB):                         0.62\n",
      "Heteroskedasticity (H):               1.07   Skew:                             0.28\n",
      "Prob(H) (two-sided):                  0.90   Kurtosis:                         2.41\n",
      "===================================================================================\n",
      "\n",
      "Warnings:\n",
      "[1] Covariance matrix calculated using the outer product of gradients (complex-step).\n"
     ]
    }
   ],
   "source": [
    "# Print model summary\n",
    "print(model_fit.summary())\n",
    "\n",
    "# Displays AR coefficients, standard errors, p-values, AIC, BIC.\n",
    "# Helps analyze if the model is stationary\n"
   ]
  },
  {
   "cell_type": "code",
   "execution_count": 65,
   "id": "e000d509",
   "metadata": {},
   "outputs": [],
   "source": [
    "# Homework\n",
    "# -----------------------\n",
    "# read from drive\n",
    "# what is aic and what is bic"
   ]
  },
  {
   "cell_type": "code",
   "execution_count": 66,
   "id": "b77ed356",
   "metadata": {},
   "outputs": [],
   "source": [
    "# Forecasting future values\n",
    "forecast_steps = 12\n",
    "forecast = model_fit.forecast(steps=forecast_steps)\n",
    "\n",
    "# Forecasts 12 future time points (next 12 months)\n",
    "\n",
    "# Forecast() generates predicted values based on the trained ARIMA model"
   ]
  },
  {
   "cell_type": "code",
   "execution_count": 67,
   "id": "fb4fe525",
   "metadata": {},
   "outputs": [
    {
     "name": "stderr",
     "output_type": "stream",
     "text": [
      "C:\\Users\\Acer\\AppData\\Local\\Temp\\ipykernel_14436\\3668609337.py:4: FutureWarning: 'M' is deprecated and will be removed in a future version, please use 'ME' instead.\n",
      "  plt.plot(pd.date_range(data.index[-1], periods=forecast_steps+1, freq=\"M\")[1:], forecast, label=\"Forecast\", color='red')\n"
     ]
    },
    {
     "data": {
      "image/png": "[encoded data removed]",
      "text/plain": [
       "<Figure size 1000x500 with 1 Axes>"
      ]
     },
     "metadata": {},
     "output_type": "display_data"
    }
   ],
   "source": [
    "# Plot actual vs predicted values\n",
    "plt.figure(figsize=(10,5))\n",
    "plt.plot(data, label=\"Actual Sales\")\n",
    "plt.plot(pd.date_range(data.index[-1], periods=forecast_steps+1, freq=\"M\")[1:], forecast, label=\"Forecast\", color='red') \n",
    "plt.title(\"Shampoo Sales Forecasting using ARIMA\")\n",
    "plt.xlabel(\"Date\")\n",
    "plt.ylabel(\"Sales\")\n",
    "plt.legend()\n",
    "plt.grid()\n",
    "plt.show()"
   ]
  },
  {
   "cell_type": "code",
   "execution_count": null,
   "id": "6aad0f1a",
   "metadata": {},
   "outputs": [],
   "source": []
  },
  {
   "cell_type": "code",
   "execution_count": null,
   "id": "71bdbd67",
   "metadata": {},
   "outputs": [],
   "source": []
  },
  {
   "cell_type": "code",
   "execution_count": null,
   "id": "7613fe5f",
   "metadata": {},
   "outputs": [],
   "source": []
  },
  {
   "cell_type": "code",
   "execution_count": 68,
   "id": "6beb9093",
   "metadata": {},
   "outputs": [],
   "source": [
    "# Walk Forward ARIMA"
   ]
  },
  {
   "cell_type": "code",
   "execution_count": 69,
   "id": "218b8f15",
   "metadata": {},
   "outputs": [
    {
     "name": "stderr",
     "output_type": "stream",
     "text": [
      "C:\\Users\\Acer\\AppData\\Local\\Temp\\ipykernel_14436\\47240940.py:1: UserWarning: Could not infer format, so each element will be parsed individually, falling back to `dateutil`. To ensure parsing is consistent and as-expected, please specify a format.\n",
      "  df = pd.read_csv('shampoo.xls', header=0, parse_dates=[0])\n"
     ]
    }
   ],
   "source": [
    "df = pd.read_csv('shampoo.xls', header=0, parse_dates=[0])"
   ]
  },
  {
   "cell_type": "code",
   "execution_count": 70,
   "id": "6fb14d3a",
   "metadata": {},
   "outputs": [],
   "source": [
    "data = df['Sales'].values"
   ]
  },
  {
   "cell_type": "code",
   "execution_count": 71,
   "id": "ec210d98",
   "metadata": {},
   "outputs": [],
   "source": [
    "train_size = int(len(data) * 0.8)\n",
    "train, test = data[:train_size], data[train_size:]"
   ]
  },
  {
   "cell_type": "code",
   "execution_count": 72,
   "id": "00284615",
   "metadata": {},
   "outputs": [],
   "source": [
    "# Walk-forward validation\n",
    "\n",
    "history = train.tolist()\n",
    "predictions = []\n",
    "\n",
    "for t in test:\n",
    "    # Fit AR model\n",
    "    model = ARIMA(data, order=(5,1,0)) # Using last 7 days for autoregression\n",
    "    model_fit = model.fit()\n",
    "    \n",
    "    # Prediction next value\n",
    "    y_pred = model_fit.predict(start=len(history), end=len(history))[0]\n",
    "    predictions.append(y_pred)\n",
    "    \n",
    "    # Update history with actual observations\n",
    "    history.append(t)"
   ]
  },
  {
   "cell_type": "code",
   "execution_count": null,
   "id": "237c118f",
   "metadata": {},
   "outputs": [],
   "source": []
  },
  {
   "cell_type": "code",
   "execution_count": 73,
   "id": "6ee1be09",
   "metadata": {},
   "outputs": [
    {
     "name": "stdout",
     "output_type": "stream",
     "text": [
      "Walk-Forward Validation RMSE: 77.9935\n"
     ]
    }
   ],
   "source": [
    "# Evalue performance\n",
    "from sklearn.metrics import mean_squared_error\n",
    "rmse = np.sqrt(mean_squared_error(test, predictions))\n",
    "print(f'Walk-Forward Validation RMSE: {rmse:.4f}')"
   ]
  },
  {
   "cell_type": "code",
   "execution_count": 74,
   "id": "0c78408e",
   "metadata": {},
   "outputs": [
    {
     "data": {
      "image/png": "[encoded data removed]",
      "text/plain": [
       "<Figure size 1000x500 with 1 Axes>"
      ]
     },
     "metadata": {},
     "output_type": "display_data"
    }
   ],
   "source": [
    "# Plot actual vs predicted values\n",
    "plt.figure(figsize=(10,5))\n",
    "plt.plot(test, label='Actual Temperature', marker='o')\n",
    "plt.plot(predictions, label='Predicted Temperature', marker='x', linestyle='dashed')\n",
    "plt.xlabel('Days')\n",
    "plt.ylabel('Temperature')\n",
    "plt.title('AR Model - Walk Forward Validation')\n",
    "plt.legend()\n",
    "plt.show()"
   ]
  },
  {
   "cell_type": "code",
   "execution_count": null,
   "id": "e01e0561",
   "metadata": {},
   "outputs": [],
   "source": []
  },
  {
   "cell_type": "code",
   "execution_count": 2,
   "id": "59ae7766",
   "metadata": {},
   "outputs": [],
   "source": [
    "# ARIMA and Sarima\n",
    "# I means integrated means it has trend."
   ]
  },
  {
   "cell_type": "code",
   "execution_count": null,
   "id": "b4ba2c69",
   "metadata": {},
   "outputs": [],
   "source": [
    "# ARIMA                  SARIMA\n",
    "\n",
    "# TREND                 seasonal ARIMA\n",
    "# (p,    d,    q)              s (p,d,q)\n",
    "#  |     |     |                (P,D,Q,m)\n",
    "# AR     |     MA              Trend + Seasonality  \n",
    "# (PACF) |   (ACF)                 \n",
    "#       d=1                      P\n",
    "#                              D\n",
    "#                              Q\n",
    "#                              M\n",
    "                \n",
    "                \n",
    "# # Smaller Dataset          Complex\n",
    "\n",
    "\n",
    "\n",
    "\n",
    "\n",
    "#####8 One more thing \n",
    "# auto-arima"
   ]
  },
  {
   "cell_type": "code",
   "execution_count": null,
   "id": "1098822f",
   "metadata": {},
   "outputs": [],
   "source": []
  },
  {
   "cell_type": "code",
   "execution_count": null,
   "id": "41438f6b",
   "metadata": {},
   "outputs": [],
   "source": [
    "# # TRANSFORMATION\n",
    "\n",
    "\n",
    "\n",
    "\n",
    "# # Dataset\n",
    "\n",
    "\n",
    "# 1. Convert it into Time Series\n",
    "\n",
    "# 2. Decompose \n",
    "#        Trend    Seasonality    Residual\n",
    "    \n",
    "# 3. Checking stationary using\n",
    "\n",
    "# ADF Test      \n",
    "\n",
    "\n",
    "# # see more in the screenshot\n"
   ]
  },
  {
   "cell_type": "code",
   "execution_count": null,
   "id": "6b1c7cfa",
   "metadata": {},
   "outputs": [],
   "source": []
  },
  {
   "cell_type": "code",
   "execution_count": null,
   "id": "4638abfd",
   "metadata": {},
   "outputs": [],
   "source": []
  },
  {
   "cell_type": "code",
   "execution_count": null,
   "id": "21683964",
   "metadata": {},
   "outputs": [],
   "source": [
    "# Biggest Difference Between ARIMA and SARIMA:\n",
    "# 🔹 ARIMA → Sirf trend ko model karta hai, seasonality ignore karta hai.\n",
    "# 🔹 SARIMA → Trend + Seasonality dono ko model karta hai (extra P, D, Q, m terms ke saath).\n",
    "\n",
    "# 👉 Use ARIMA when no seasonality\n",
    "# 👉 Use SARIMA when clear seasonal patterns exist"
   ]
  },
  {
   "cell_type": "code",
   "execution_count": 1,
   "id": "cf8e0f7c",
   "metadata": {},
   "outputs": [],
   "source": [
    "# Computational Cost:\n",
    "\n",
    "# ARIMA: Faster and simpler.\n",
    "\n",
    "# SARIMA: More complex, takes longer to train due to extra seasonal parameters."
   ]
  },
  {
   "cell_type": "code",
   "execution_count": null,
   "id": "0111ac38",
   "metadata": {},
   "outputs": [],
   "source": [
    "# arima = only handle tren\n",
    "# sarima = handle trend + seasonality"
   ]
  },
  {
   "cell_type": "raw",
   "id": "f3b23331",
   "metadata": {},
   "source": []
  },
  {
   "cell_type": "code",
   "execution_count": null,
   "id": "9adda87a",
   "metadata": {},
   "outputs": [],
   "source": []
  },
  {
   "cell_type": "code",
   "execution_count": null,
   "id": "478e37aa",
   "metadata": {},
   "outputs": [],
   "source": []
  },
  {
   "cell_type": "code",
   "execution_count": null,
   "id": "c8d68aa9",
   "metadata": {},
   "outputs": [],
   "source": []
  },
  {
   "cell_type": "code",
   "execution_count": null,
   "id": "75a2d54e",
   "metadata": {},
   "outputs": [],
   "source": []
  },
  {
   "cell_type": "code",
   "execution_count": null,
   "id": "53dac0ef",
   "metadata": {},
   "outputs": [],
   "source": []
  },
  {
   "cell_type": "code",
   "execution_count": null,
   "id": "e061c261",
   "metadata": {},
   "outputs": [],
   "source": []
  },
  {
   "cell_type": "code",
   "execution_count": null,
   "id": "39c438b3",
   "metadata": {},
   "outputs": [],
   "source": []
  },
  {
   "cell_type": "code",
   "execution_count": null,
   "id": "d13ef533",
   "metadata": {},
   "outputs": [],
   "source": []
  },
  {
   "cell_type": "code",
   "execution_count": null,
   "id": "c330b0fe",
   "metadata": {},
   "outputs": [],
   "source": []
  }
 ],
 "metadata": {
  "kernelspec": {
   "display_name": "Python 3 (ipykernel)",
   "language": "python",
   "name": "python3"
  },
  "language_info": {
   "codemirror_mode": {
    "name": "ipython",
    "version": 3
   },
   "file_extension": ".py",
   "mimetype": "text/x-python",
   "name": "python",
   "nbconvert_exporter": "python",
   "pygments_lexer": "ipython3",
   "version": "3.11.7"
  }
 },
 "nbformat": 4,
 "nbformat_minor": 5
}
