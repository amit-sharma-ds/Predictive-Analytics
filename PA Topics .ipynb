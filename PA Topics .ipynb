{
 "cells": [
  {
   "cell_type": "code",
   "execution_count": null,
   "id": "4d896bd5",
   "metadata": {},
   "outputs": [],
   "source": [
    "# 19 mar 2025"
   ]
  },
  {
   "cell_type": "code",
   "execution_count": null,
   "id": "96a13c71",
   "metadata": {},
   "outputs": [],
   "source": [
    "# Dataframe -> series\n",
    "# feature Engineering\n",
    "\n",
    "#  1) Date Time \n",
    "#  2) Lag [shift (1)]\n",
    "#  3) Rolling (window= x)\n",
    "#  4) Expanding Window\n",
    "#  5) Resampling 1) Upscaling\n",
    "#               2) Downscaling\n",
    "    \n",
    "    \n",
    "# 6) Time Series -> Data Visualization\n",
    "#     1) Line Plot\n",
    "#     2) Lag Plot\n",
    "#     3) Scatter Plot\n",
    "#     4) Autocorrelation\n",
    "    \n",
    "\n",
    "# 7) smothning\n",
    "# -----------------\n",
    "\n",
    "# 1) Moving Average Smooth\n",
    "# 2) Exponential Smoothning (SES)\n",
    "\n",
    "\n",
    "# 8) decompose means\n",
    "#      |\n",
    "#      -->actual trend sesonality residual\n",
    "        \n",
    "#     Differencing\n",
    "#     Trend    ( period = 1)   [Zooming In]\n",
    "        \n",
    "# 9) Split data (Train, Test) in time series\n",
    "\n",
    "# 10) White Noise & Random Walk\n",
    "\n",
    "# if Random walk then we can go for the persistence model\n",
    "\n",
    "# 11) Persistence Model\n",
    "\n",
    "# 12) AR Model -> if lag values\n",
    "# to understand ar first see the graph of acf and pacf\n",
    "\n",
    "# 13) ADF Test\n",
    "\n",
    "# 14) ACF & PACF\n",
    "# 15) arima"
   ]
  },
  {
   "cell_type": "code",
   "execution_count": null,
   "id": "e58fb8f1",
   "metadata": {},
   "outputs": [],
   "source": [
    "# decompose: trend and seasonality remove. (multiplicated, additive)\n",
    "differencing: non stationar\n",
    "    "
   ]
  }
 ],
 "metadata": {
  "kernelspec": {
   "display_name": "Python 3 (ipykernel)",
   "language": "python",
   "name": "python3"
  },
  "language_info": {
   "codemirror_mode": {
    "name": "ipython",
    "version": 3
   },
   "file_extension": ".py",
   "mimetype": "text/x-python",
   "name": "python",
   "nbconvert_exporter": "python",
   "pygments_lexer": "ipython3",
   "version": "3.11.7"
  }
 },
 "nbformat": 4,
 "nbformat_minor": 5
}
